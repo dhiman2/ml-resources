{
 "cells": [
  {
   "cell_type": "markdown",
   "metadata": {},
   "source": [
    "# Classifying Consumer Finance Complaints \n",
    "\n",
    "[Dataset](https://catalog.data.gov/dataset/consumer-complaint-database)\n",
    "\n",
    "**Problem formulation**: Supervised text classification problem. \n",
    "\n",
    "## Data\n",
    "\n",
    "For this project, we need only two columns — `Product` and `Consumer complaint narrative`.\n",
    "\n",
    "* **Input**: `Consumer_complaint_narrative`\n",
    "    \n",
    "    Example: *“I have outdated information on my credit report that I have previously disputed that has yet to be removed this information is more then seven years old and does not meet credit reporting requirements”*\n",
    "\n",
    "\n",
    "* **Output**: `product`\n",
    "    \n",
    "    Example: *Credit reporting*"
   ]
  },
  {
   "cell_type": "code",
   "execution_count": 1,
   "metadata": {},
   "outputs": [
    {
     "data": {
      "text/plain": [
       "(1109649, 18)"
      ]
     },
     "execution_count": 1,
     "metadata": {},
     "output_type": "execute_result"
    }
   ],
   "source": [
    "import pandas as pd\n",
    "df = pd.read_csv('data/Consumer_Complaints.csv')\n",
    "df.shape"
   ]
  },
  {
   "cell_type": "code",
   "execution_count": 2,
   "metadata": {},
   "outputs": [
    {
     "data": {
      "text/html": [
       "<div>\n",
       "<style scoped>\n",
       "    .dataframe tbody tr th:only-of-type {\n",
       "        vertical-align: middle;\n",
       "    }\n",
       "\n",
       "    .dataframe tbody tr th {\n",
       "        vertical-align: top;\n",
       "    }\n",
       "\n",
       "    .dataframe thead th {\n",
       "        text-align: right;\n",
       "    }\n",
       "</style>\n",
       "<table border=\"1\" class=\"dataframe\">\n",
       "  <thead>\n",
       "    <tr style=\"text-align: right;\">\n",
       "      <th></th>\n",
       "      <th>Date received</th>\n",
       "      <th>Product</th>\n",
       "      <th>Sub-product</th>\n",
       "      <th>Issue</th>\n",
       "      <th>Sub-issue</th>\n",
       "      <th>Consumer complaint narrative</th>\n",
       "      <th>Company public response</th>\n",
       "      <th>Company</th>\n",
       "      <th>State</th>\n",
       "      <th>ZIP code</th>\n",
       "      <th>Tags</th>\n",
       "      <th>Consumer consent provided?</th>\n",
       "      <th>Submitted via</th>\n",
       "      <th>Date sent to company</th>\n",
       "      <th>Company response to consumer</th>\n",
       "      <th>Timely response?</th>\n",
       "      <th>Consumer disputed?</th>\n",
       "      <th>Complaint ID</th>\n",
       "    </tr>\n",
       "  </thead>\n",
       "  <tbody>\n",
       "    <tr>\n",
       "      <th>528779</th>\n",
       "      <td>03/11/2014</td>\n",
       "      <td>Credit reporting</td>\n",
       "      <td>NaN</td>\n",
       "      <td>Unable to get credit report/credit score</td>\n",
       "      <td>Problem getting report or credit score</td>\n",
       "      <td>NaN</td>\n",
       "      <td>NaN</td>\n",
       "      <td>TRANSUNION INTERMEDIATE HOLDINGS, INC.</td>\n",
       "      <td>NC</td>\n",
       "      <td>27703</td>\n",
       "      <td>NaN</td>\n",
       "      <td>NaN</td>\n",
       "      <td>Web</td>\n",
       "      <td>03/11/2014</td>\n",
       "      <td>Closed with explanation</td>\n",
       "      <td>Yes</td>\n",
       "      <td>No</td>\n",
       "      <td>753296</td>\n",
       "    </tr>\n",
       "    <tr>\n",
       "      <th>623213</th>\n",
       "      <td>09/10/2015</td>\n",
       "      <td>Credit reporting</td>\n",
       "      <td>NaN</td>\n",
       "      <td>Incorrect information on credit report</td>\n",
       "      <td>Account status</td>\n",
       "      <td>NaN</td>\n",
       "      <td>Company chooses not to provide a public response</td>\n",
       "      <td>Experian Information Solutions Inc.</td>\n",
       "      <td>CA</td>\n",
       "      <td>91362</td>\n",
       "      <td>Older American</td>\n",
       "      <td>NaN</td>\n",
       "      <td>Postal mail</td>\n",
       "      <td>09/29/2015</td>\n",
       "      <td>Closed with non-monetary relief</td>\n",
       "      <td>Yes</td>\n",
       "      <td>No</td>\n",
       "      <td>1558968</td>\n",
       "    </tr>\n",
       "    <tr>\n",
       "      <th>476237</th>\n",
       "      <td>03/11/2013</td>\n",
       "      <td>Mortgage</td>\n",
       "      <td>FHA mortgage</td>\n",
       "      <td>Loan modification,collection,foreclosure</td>\n",
       "      <td>NaN</td>\n",
       "      <td>NaN</td>\n",
       "      <td>NaN</td>\n",
       "      <td>BANK OF AMERICA, NATIONAL ASSOCIATION</td>\n",
       "      <td>FL</td>\n",
       "      <td>33032</td>\n",
       "      <td>NaN</td>\n",
       "      <td>NaN</td>\n",
       "      <td>Web</td>\n",
       "      <td>03/22/2013</td>\n",
       "      <td>Closed with explanation</td>\n",
       "      <td>Yes</td>\n",
       "      <td>Yes</td>\n",
       "      <td>348791</td>\n",
       "    </tr>\n",
       "  </tbody>\n",
       "</table>\n",
       "</div>"
      ],
      "text/plain": [
       "       Date received           Product   Sub-product  \\\n",
       "528779    03/11/2014  Credit reporting           NaN   \n",
       "623213    09/10/2015  Credit reporting           NaN   \n",
       "476237    03/11/2013          Mortgage  FHA mortgage   \n",
       "\n",
       "                                           Issue  \\\n",
       "528779  Unable to get credit report/credit score   \n",
       "623213    Incorrect information on credit report   \n",
       "476237  Loan modification,collection,foreclosure   \n",
       "\n",
       "                                     Sub-issue Consumer complaint narrative  \\\n",
       "528779  Problem getting report or credit score                          NaN   \n",
       "623213                          Account status                          NaN   \n",
       "476237                                     NaN                          NaN   \n",
       "\n",
       "                                 Company public response  \\\n",
       "528779                                               NaN   \n",
       "623213  Company chooses not to provide a public response   \n",
       "476237                                               NaN   \n",
       "\n",
       "                                       Company State ZIP code            Tags  \\\n",
       "528779  TRANSUNION INTERMEDIATE HOLDINGS, INC.    NC    27703             NaN   \n",
       "623213     Experian Information Solutions Inc.    CA    91362  Older American   \n",
       "476237   BANK OF AMERICA, NATIONAL ASSOCIATION    FL    33032             NaN   \n",
       "\n",
       "       Consumer consent provided? Submitted via Date sent to company  \\\n",
       "528779                        NaN           Web           03/11/2014   \n",
       "623213                        NaN   Postal mail           09/29/2015   \n",
       "476237                        NaN           Web           03/22/2013   \n",
       "\n",
       "           Company response to consumer Timely response? Consumer disputed?  \\\n",
       "528779          Closed with explanation              Yes                 No   \n",
       "623213  Closed with non-monetary relief              Yes                 No   \n",
       "476237          Closed with explanation              Yes                Yes   \n",
       "\n",
       "        Complaint ID  \n",
       "528779        753296  \n",
       "623213       1558968  \n",
       "476237        348791  "
      ]
     },
     "execution_count": 2,
     "metadata": {},
     "output_type": "execute_result"
    }
   ],
   "source": [
    "df.sample(3)"
   ]
  },
  {
   "cell_type": "code",
   "execution_count": 3,
   "metadata": {},
   "outputs": [],
   "source": [
    "df = df[pd.notnull(df['Consumer complaint narrative'])]\n",
    "\n",
    "col = ['Product', 'Consumer complaint narrative']\n",
    "df = df[col]\n",
    "\n",
    "df.columns = ['Product', 'Consumer_complaint_narrative']\n",
    "df['category_id'] = df['Product'].factorize()[0]"
   ]
  },
  {
   "cell_type": "code",
   "execution_count": 4,
   "metadata": {},
   "outputs": [],
   "source": [
    "from io import StringIO\n",
    "category_id_df = df[['Product', 'category_id']].drop_duplicates().sort_values('category_id')\n",
    "category_to_id = dict(category_id_df.values)\n",
    "id_to_category = dict(category_id_df[['category_id', 'Product']].values)"
   ]
  },
  {
   "cell_type": "code",
   "execution_count": 5,
   "metadata": {},
   "outputs": [
    {
     "data": {
      "text/html": [
       "<div>\n",
       "<style scoped>\n",
       "    .dataframe tbody tr th:only-of-type {\n",
       "        vertical-align: middle;\n",
       "    }\n",
       "\n",
       "    .dataframe tbody tr th {\n",
       "        vertical-align: top;\n",
       "    }\n",
       "\n",
       "    .dataframe thead th {\n",
       "        text-align: right;\n",
       "    }\n",
       "</style>\n",
       "<table border=\"1\" class=\"dataframe\">\n",
       "  <thead>\n",
       "    <tr style=\"text-align: right;\">\n",
       "      <th></th>\n",
       "      <th>Product</th>\n",
       "      <th>Consumer_complaint_narrative</th>\n",
       "      <th>category_id</th>\n",
       "    </tr>\n",
       "  </thead>\n",
       "  <tbody>\n",
       "    <tr>\n",
       "      <th>668998</th>\n",
       "      <td>Debt collection</td>\n",
       "      <td>I defaulted on my payday loan with XXXX. I got...</td>\n",
       "      <td>1</td>\n",
       "    </tr>\n",
       "    <tr>\n",
       "      <th>616600</th>\n",
       "      <td>Credit reporting</td>\n",
       "      <td>Despite my repeated requests to have the accou...</td>\n",
       "      <td>0</td>\n",
       "    </tr>\n",
       "    <tr>\n",
       "      <th>772491</th>\n",
       "      <td>Credit reporting, credit repair services, or o...</td>\n",
       "      <td>My son went to the XXXX XXXX XXXX XXXX sometim...</td>\n",
       "      <td>10</td>\n",
       "    </tr>\n",
       "  </tbody>\n",
       "</table>\n",
       "</div>"
      ],
      "text/plain": [
       "                                                  Product  \\\n",
       "668998                                    Debt collection   \n",
       "616600                                   Credit reporting   \n",
       "772491  Credit reporting, credit repair services, or o...   \n",
       "\n",
       "                             Consumer_complaint_narrative  category_id  \n",
       "668998  I defaulted on my payday loan with XXXX. I got...            1  \n",
       "616600  Despite my repeated requests to have the accou...            0  \n",
       "772491  My son went to the XXXX XXXX XXXX XXXX sometim...           10  "
      ]
     },
     "execution_count": 5,
     "metadata": {},
     "output_type": "execute_result"
    }
   ],
   "source": [
    "df.sample(3)"
   ]
  },
  {
   "cell_type": "code",
   "execution_count": 6,
   "metadata": {},
   "outputs": [
    {
     "data": {
      "text/plain": [
       "(316294, 3)"
      ]
     },
     "execution_count": 6,
     "metadata": {},
     "output_type": "execute_result"
    }
   ],
   "source": [
    "df.shape"
   ]
  },
  {
   "cell_type": "code",
   "execution_count": 7,
   "metadata": {},
   "outputs": [
    {
     "name": "stdout",
     "output_type": "stream",
     "text": [
      "<class 'pandas.core.frame.DataFrame'>\n",
      "Int64Index: 316294 entries, 5 to 1109644\n",
      "Data columns (total 3 columns):\n",
      "Product                         316294 non-null object\n",
      "Consumer_complaint_narrative    316294 non-null object\n",
      "category_id                     316294 non-null int64\n",
      "dtypes: int64(1), object(2)\n",
      "memory usage: 9.7+ MB\n"
     ]
    }
   ],
   "source": [
    "df.info()"
   ]
  },
  {
   "cell_type": "code",
   "execution_count": 8,
   "metadata": {},
   "outputs": [],
   "source": [
    "# data too big \n",
    "df = df.sample(15000)"
   ]
  },
  {
   "cell_type": "code",
   "execution_count": 9,
   "metadata": {},
   "outputs": [
    {
     "data": {
      "image/png": "[encoded data removed]",
      "text/plain": [
       "<matplotlib.figure.Figure at 0x23bd46a3eb8>"
      ]
     },
     "metadata": {},
     "output_type": "display_data"
    }
   ],
   "source": [
    "%matplotlib inline\n",
    "\n",
    "import matplotlib.pyplot as plt\n",
    "import seaborn as sns\n",
    "\n",
    "sns.set(style='ticks', context='poster')\n",
    "\n",
    "fig = plt.figure(figsize=(8,6))\n",
    "df.groupby('Product').Consumer_complaint_narrative.count().plot.bar(ylim=0, color='grey')\n",
    "plt.title('Imbalanced Classes')\n",
    "plt.ylabel('Count')\n",
    "sns.despine();"
   ]
  },
  {
   "cell_type": "code",
   "execution_count": 10,
   "metadata": {},
   "outputs": [
    {
     "data": {
      "text/plain": [
       "18"
      ]
     },
     "execution_count": 10,
     "metadata": {},
     "output_type": "execute_result"
    }
   ],
   "source": [
    "# Number of classes\n",
    "df.Product.nunique()"
   ]
  },
  {
   "cell_type": "markdown",
   "metadata": {},
   "source": [
    "In our case of learning imbalanced data, the majority classes might be of our great interest. It is desirable to have a classifier that gives high prediction accuracy over the majority class, while maintaining reasonable accuracy for the minority classes. Therefore, we will leave it as it is.\n",
    "\n",
    "## Text representation"
   ]
  },
  {
   "cell_type": "code",
   "execution_count": 11,
   "metadata": {},
   "outputs": [
    {
     "data": {
      "text/plain": [
       "(15000, 52614)"
      ]
     },
     "execution_count": 11,
     "metadata": {},
     "output_type": "execute_result"
    }
   ],
   "source": [
    "from sklearn.feature_extraction.text import TfidfVectorizer\n",
    "\n",
    "tfidf = TfidfVectorizer(sublinear_tf=True, min_df=5, norm='l2', encoding='latin-1', ngram_range=(1, 3), stop_words='english')\n",
    "\n",
    "features = tfidf.fit_transform(df.Consumer_complaint_narrative).toarray()\n",
    "labels = df.category_id\n",
    "features.shape"
   ]
  },
  {
   "cell_type": "markdown",
   "metadata": {},
   "source": [
    "**Terms that are the most correlated with each of the products**"
   ]
  },
  {
   "cell_type": "code",
   "execution_count": 12,
   "metadata": {},
   "outputs": [
    {
     "name": "stdout",
     "output_type": "stream",
     "text": [
      "# 'Bank account or service':\n",
      "  . Most correlated unigrams:\n",
      "       . checking\n",
      "       . overdraft\n",
      "  . Most correlated bigrams:\n",
      "       . checking account\n",
      "       . overdraft fees\n",
      "  . Most correlated trigrams:\n",
      "       . xxxx xxxx miles\n",
      "       . citigold checking account\n",
      "# 'Checking or savings account':\n",
      "  . Most correlated unigrams:\n",
      "       . branch\n",
      "       . deposit\n",
      "  . Most correlated bigrams:\n",
      "       . huntington bank\n",
      "       . checking account\n",
      "  . Most correlated trigrams:\n",
      "       . 200 00 bonus\n",
      "       . xx xxxx deposited\n",
      "# 'Consumer Loan':\n",
      "  . Most correlated unigrams:\n",
      "       . car\n",
      "       . vehicle\n",
      "  . Most correlated bigrams:\n",
      "       . fargo dealer\n",
      "       . auto loan\n",
      "  . Most correlated trigrams:\n",
      "       . wells fargo dealer\n",
      "       . fargo dealer services\n",
      "# 'Credit card':\n",
      "  . Most correlated unigrams:\n",
      "       . citi\n",
      "       . card\n",
      "  . Most correlated bigrams:\n",
      "       . american express\n",
      "       . credit card\n",
      "  . Most correlated trigrams:\n",
      "       . credit card account\n",
      "       . credit card company\n",
      "# 'Credit card or prepaid card':\n",
      "  . Most correlated unigrams:\n",
      "       . express\n",
      "       . card\n",
      "  . Most correlated bigrams:\n",
      "       . american express\n",
      "       . credit card\n",
      "  . Most correlated trigrams:\n",
      "       . credit card xx\n",
      "       . card xx xx\n",
      "# 'Credit reporting':\n",
      "  . Most correlated unigrams:\n",
      "       . equifax\n",
      "       . experian\n",
      "  . Most correlated bigrams:\n",
      "       . trans union\n",
      "       . credit report\n",
      "  . Most correlated trigrams:\n",
      "       . soon possible thank\n",
      "       . equifax credit report\n",
      "# 'Credit reporting, credit repair services, or other personal consumer reports':\n",
      "  . Most correlated unigrams:\n",
      "       . equifax\n",
      "       . inquiries\n",
      "  . Most correlated bigrams:\n",
      "       . appear report\n",
      "       . mistakes appear\n",
      "  . Most correlated trigrams:\n",
      "       . mistakes appear report\n",
      "       . appear report understanding\n",
      "# 'Debt collection':\n",
      "  . Most correlated unigrams:\n",
      "       . collection\n",
      "       . debt\n",
      "  . Most correlated bigrams:\n",
      "       . collect debt\n",
      "       . collection agency\n",
      "  . Most correlated trigrams:\n",
      "       . fair debt collection\n",
      "       . debt xxxx xxxx\n",
      "# 'Money transfer, virtual currency, or money service':\n",
      "  . Most correlated unigrams:\n",
      "       . bitcoin\n",
      "       . coinbase\n",
      "  . Most correlated bigrams:\n",
      "       . xxxx coinbase\n",
      "       . coinbase account\n",
      "  . Most correlated trigrams:\n",
      "       . coinbase xx xx\n",
      "       . xxxx xxxx coinbase\n",
      "# 'Money transfers':\n",
      "  . Most correlated unigrams:\n",
      "       . gram\n",
      "       . western\n",
      "  . Most correlated bigrams:\n",
      "       . money gram\n",
      "       . western union\n",
      "  . Most correlated trigrams:\n",
      "       . called western union\n",
      "       . paypal account paypal\n",
      "# 'Mortgage':\n",
      "  . Most correlated unigrams:\n",
      "       . modification\n",
      "       . mortgage\n",
      "  . Most correlated bigrams:\n",
      "       . mortgage company\n",
      "       . loan modification\n",
      "  . Most correlated trigrams:\n",
      "       . loan servicing llc\n",
      "       . ocwen loan servicing\n",
      "# 'Other financial service':\n",
      "  . Most correlated unigrams:\n",
      "       . venture\n",
      "       . scratch\n",
      "  . Most correlated bigrams:\n",
      "       . payments supposed\n",
      "       . reason called\n",
      "  . Most correlated trigrams:\n",
      "       . called student loan\n",
      "       . monthly service fee\n",
      "# 'Payday loan':\n",
      "  . Most correlated unigrams:\n",
      "       . ace\n",
      "       . payday\n",
      "  . Most correlated bigrams:\n",
      "       . online payday\n",
      "       . payday loan\n",
      "  . Most correlated trigrams:\n",
      "       . applied payday loan\n",
      "       . online payday loan\n",
      "# 'Payday loan, title loan, or personal loan':\n",
      "  . Most correlated unigrams:\n",
      "       . apr\n",
      "       . titlemax\n",
      "  . Most correlated bigrams:\n",
      "       . took loan\n",
      "       . bank balance\n",
      "  . Most correlated trigrams:\n",
      "       . took loan xxxx\n",
      "       . 800 00 loan\n",
      "# 'Prepaid card':\n",
      "  . Most correlated unigrams:\n",
      "       . rushcard\n",
      "       . prepaid\n",
      "  . Most correlated bigrams:\n",
      "       . gift card\n",
      "       . rush card\n",
      "  . Most correlated trigrams:\n",
      "       . american express serve\n",
      "       . prepaid debit card\n",
      "# 'Student loan':\n",
      "  . Most correlated unigrams:\n",
      "       . student\n",
      "       . navient\n",
      "  . Most correlated bigrams:\n",
      "       . student loans\n",
      "       . student loan\n",
      "  . Most correlated trigrams:\n",
      "       . xxxx xxxx navient\n",
      "       . income based repayment\n",
      "# 'Vehicle loan or lease':\n",
      "  . Most correlated unigrams:\n",
      "       . car\n",
      "       . vehicle\n",
      "  . Most correlated bigrams:\n",
      "       . santander xxxx\n",
      "       . gm financial\n",
      "  . Most correlated trigrams:\n",
      "       . santander xxxx xxxx\n",
      "       . vehicle xxxx xxxx\n",
      "# 'Virtual currency':\n",
      "  . Most correlated unigrams:\n",
      "       . random\n",
      "       . circle\n",
      "  . Most correlated bigrams:\n",
      "       . notice days\n",
      "       . owe 100\n",
      "  . Most correlated trigrams:\n",
      "       . want removed immediately\n",
      "       . owe 100 00\n",
      "Wall time: 59.4 s\n"
     ]
    }
   ],
   "source": [
    "%%time \n",
    "\n",
    "from sklearn.feature_selection import chi2\n",
    "import numpy as np\n",
    "\n",
    "N = 2\n",
    "for Product, category_id in sorted(category_to_id.items()):\n",
    "    features_chi2 = chi2(features, labels == category_id)\n",
    "    indices = np.argsort(features_chi2[0])\n",
    "    feature_names = np.array(tfidf.get_feature_names())[indices]\n",
    "    \n",
    "    unigrams = [v for v in feature_names if len(v.split(' ')) == 1]\n",
    "    bigrams = [v for v in feature_names if len(v.split(' ')) == 2]\n",
    "    trigrams = [v for v in feature_names if len(v.split(' ')) == 3]\n",
    "    \n",
    "    print(\"# '{}':\".format(Product))\n",
    "    print(\"  . Most correlated unigrams:\\n       . {}\".format('\\n       . '.join(unigrams[-N:])))\n",
    "    print(\"  . Most correlated bigrams:\\n       . {}\".format('\\n       . '.join(bigrams[-N:])))\n",
    "    print(\"  . Most correlated trigrams:\\n       . {}\".format('\\n       . '.join(trigrams[-N:])))"
   ]
  },
  {
   "cell_type": "markdown",
   "metadata": {},
   "source": [
    "## Naive Bayes Classifier"
   ]
  },
  {
   "cell_type": "code",
   "execution_count": 13,
   "metadata": {},
   "outputs": [],
   "source": [
    "from sklearn.model_selection import train_test_split\n",
    "from sklearn.feature_extraction.text import CountVectorizer\n",
    "from sklearn.feature_extraction.text import TfidfTransformer\n",
    "from sklearn.naive_bayes import MultinomialNB\n",
    "\n",
    "X_train, X_test, y_train, y_test = train_test_split(df['Consumer_complaint_narrative'], df['Product'], random_state = 0)\n",
    "count_vect = CountVectorizer()\n",
    "X_train_counts = count_vect.fit_transform(X_train)\n",
    "tfidf_transformer = TfidfTransformer()\n",
    "X_train_tfidf = tfidf_transformer.fit_transform(X_train_counts)\n",
    "\n",
    "clf = MultinomialNB().fit(X_train_tfidf, y_train)"
   ]
  },
  {
   "cell_type": "code",
   "execution_count": 14,
   "metadata": {},
   "outputs": [
    {
     "name": "stdout",
     "output_type": "stream",
     "text": [
      "['Debt collection']\n"
     ]
    }
   ],
   "source": [
    "print(clf.predict(count_vect.transform([\"This company refuses to provide me verification and validation of debt per my right under the FDCPA. I do not believe this debt is mine.\"])))"
   ]
  },
  {
   "cell_type": "markdown",
   "metadata": {},
   "source": [
    "# Model selection\n",
    "\n",
    "1. Logistic regression\n",
    "2. Multinomial Naive Bayes\n",
    "3. Linear SVM\n",
    "4. Random Forest"
   ]
  },
  {
   "cell_type": "code",
   "execution_count": 15,
   "metadata": {},
   "outputs": [
    {
     "name": "stderr",
     "output_type": "stream",
     "text": [
      "C:\\Users\\anubhav.dhiman\\AppData\\Local\\Continuum\\anaconda3\\lib\\site-packages\\sklearn\\model_selection\\_split.py:605: Warning: The least populated class in y has only 1 members, which is too few. The minimum number of members in any class cannot be less than n_splits=5.\n",
      "  % (min_groups, self.n_splits)), Warning)\n",
      "C:\\Users\\anubhav.dhiman\\AppData\\Local\\Continuum\\anaconda3\\lib\\site-packages\\sklearn\\model_selection\\_split.py:605: Warning: The least populated class in y has only 1 members, which is too few. The minimum number of members in any class cannot be less than n_splits=5.\n",
      "  % (min_groups, self.n_splits)), Warning)\n",
      "C:\\Users\\anubhav.dhiman\\AppData\\Local\\Continuum\\anaconda3\\lib\\site-packages\\sklearn\\model_selection\\_split.py:605: Warning: The least populated class in y has only 1 members, which is too few. The minimum number of members in any class cannot be less than n_splits=5.\n",
      "  % (min_groups, self.n_splits)), Warning)\n",
      "C:\\Users\\anubhav.dhiman\\AppData\\Local\\Continuum\\anaconda3\\lib\\site-packages\\sklearn\\model_selection\\_split.py:605: Warning: The least populated class in y has only 1 members, which is too few. The minimum number of members in any class cannot be less than n_splits=5.\n",
      "  % (min_groups, self.n_splits)), Warning)\n"
     ]
    },
    {
     "name": "stdout",
     "output_type": "stream",
     "text": [
      "Wall time: 9min 53s\n"
     ]
    }
   ],
   "source": [
    "%%time \n",
    "\n",
    "from sklearn.linear_model import LogisticRegression\n",
    "from sklearn.ensemble import RandomForestClassifier\n",
    "from sklearn.naive_bayes import MultinomialNB\n",
    "from sklearn.svm import LinearSVC\n",
    "\n",
    "from sklearn.model_selection import cross_val_score\n",
    "\n",
    "models = [\n",
    "    RandomForestClassifier(n_estimators=200, max_depth=3, random_state=0),\n",
    "    LinearSVC(),\n",
    "    MultinomialNB(),\n",
    "    LogisticRegression(random_state=0),\n",
    "]\n",
    "CV = 5\n",
    "cv_df = pd.DataFrame(index=range(CV * len(models)))\n",
    "entries = []\n",
    "for model in models:\n",
    "    model_name = model.__class__.__name__\n",
    "    accuracies = cross_val_score(model, features, labels, scoring='accuracy', cv=CV)\n",
    "    for fold_idx, accuracy in enumerate(accuracies):\n",
    "        entries.append((model_name, fold_idx, accuracy))\n",
    "\n",
    "cv_df = pd.DataFrame(entries, columns=['model_name', 'fold_idx', 'accuracy'])"
   ]
  },
  {
   "cell_type": "code",
   "execution_count": 16,
   "metadata": {},
   "outputs": [
    {
     "data": {
      "image/png": "[encoded data removed]",
      "text/plain": [
       "<matplotlib.figure.Figure at 0x23be6efb710>"
      ]
     },
     "metadata": {},
     "output_type": "display_data"
    }
   ],
   "source": [
    "fig = plt.figure(figsize=(12,6))\n",
    "\n",
    "sns.boxplot(x='model_name', y='accuracy', data=cv_df)\n",
    "sns.stripplot(x='model_name', y='accuracy', data=cv_df, \n",
    "              size=10, jitter=True, edgecolor=\"gray\", linewidth=2)\n",
    "\n",
    "sns.despine();"
   ]
  },
  {
   "cell_type": "code",
   "execution_count": 17,
   "metadata": {},
   "outputs": [
    {
     "data": {
      "text/plain": [
       "model_name\n",
       "LinearSVC                 0.693200\n",
       "LogisticRegression        0.674541\n",
       "MultinomialNB             0.541268\n",
       "RandomForestClassifier    0.307005\n",
       "Name: accuracy, dtype: float64"
      ]
     },
     "execution_count": 17,
     "metadata": {},
     "output_type": "execute_result"
    }
   ],
   "source": [
    "cv_df.groupby('model_name').accuracy.mean()"
   ]
  },
  {
   "cell_type": "markdown",
   "metadata": {},
   "source": [
    "## Model evaulation "
   ]
  },
  {
   "cell_type": "code",
   "execution_count": 18,
   "metadata": {},
   "outputs": [],
   "source": [
    "from sklearn.model_selection import train_test_split\n",
    "\n",
    "model = LinearSVC()\n",
    "\n",
    "X_train, X_test, y_train, y_test, indices_train, indices_test = train_test_split(features, labels, df.index, test_size=0.33, random_state=0)\n",
    "model.fit(X_train, y_train)\n",
    "y_pred = model.predict(X_test)"
   ]
  },
  {
   "cell_type": "code",
   "execution_count": 19,
   "metadata": {},
   "outputs": [
    {
     "data": {
      "image/png": "[encoded data removed]",
      "text/plain": [
       "<matplotlib.figure.Figure at 0x23bc3b62c18>"
      ]
     },
     "metadata": {},
     "output_type": "display_data"
    }
   ],
   "source": [
    "from sklearn.metrics import confusion_matrix\n",
    "\n",
    "sns.set_context('notebook')\n",
    "conf_mat = confusion_matrix(y_test, y_pred)\n",
    "fig, ax = plt.subplots(figsize=(8,8))\n",
    "sns.heatmap(conf_mat, annot=True, fmt='d',\n",
    "            xticklabels=category_id_df.Product.values, yticklabels=category_id_df.Product.values)\n",
    "plt.ylabel('Actual')\n",
    "plt.xlabel('Predicted')\n",
    "plt.show()"
   ]
  },
  {
   "cell_type": "markdown",
   "metadata": {},
   "source": [
    "## What were the misclassifications?"
   ]
  },
  {
   "cell_type": "code",
   "execution_count": 20,
   "metadata": {
    "scrolled": false
   },
   "outputs": [
    {
     "name": "stdout",
     "output_type": "stream",
     "text": [
      "'Debt collection' predicted as 'Credit reporting' : 24 examples.\n"
     ]
    },
    {
     "data": {
      "text/html": [
       "<div>\n",
       "<style scoped>\n",
       "    .dataframe tbody tr th:only-of-type {\n",
       "        vertical-align: middle;\n",
       "    }\n",
       "\n",
       "    .dataframe tbody tr th {\n",
       "        vertical-align: top;\n",
       "    }\n",
       "\n",
       "    .dataframe thead th {\n",
       "        text-align: right;\n",
       "    }\n",
       "</style>\n",
       "<table border=\"1\" class=\"dataframe\">\n",
       "  <thead>\n",
       "    <tr style=\"text-align: right;\">\n",
       "      <th></th>\n",
       "      <th>Product</th>\n",
       "      <th>Consumer_complaint_narrative</th>\n",
       "    </tr>\n",
       "  </thead>\n",
       "  <tbody>\n",
       "    <tr>\n",
       "      <th>751432</th>\n",
       "      <td>Debt collection</td>\n",
       "      <td>I reviewed my credit report several months ago...</td>\n",
       "    </tr>\n",
       "    <tr>\n",
       "      <th>614122</th>\n",
       "      <td>Debt collection</td>\n",
       "      <td>I keep getting calls and threats to damage my ...</td>\n",
       "    </tr>\n",
       "  </tbody>\n",
       "</table>\n",
       "</div>"
      ],
      "text/plain": [
       "                Product                       Consumer_complaint_narrative\n",
       "751432  Debt collection  I reviewed my credit report several months ago...\n",
       "614122  Debt collection  I keep getting calls and threats to damage my ..."
      ]
     },
     "metadata": {},
     "output_type": "display_data"
    },
    {
     "name": "stdout",
     "output_type": "stream",
     "text": [
      "\n",
      "'Credit reporting, credit repair services, or other personal consumer reports' predicted as 'Credit reporting' : 85 examples.\n"
     ]
    },
    {
     "data": {
      "text/html": [
       "<div>\n",
       "<style scoped>\n",
       "    .dataframe tbody tr th:only-of-type {\n",
       "        vertical-align: middle;\n",
       "    }\n",
       "\n",
       "    .dataframe tbody tr th {\n",
       "        vertical-align: top;\n",
       "    }\n",
       "\n",
       "    .dataframe thead th {\n",
       "        text-align: right;\n",
       "    }\n",
       "</style>\n",
       "<table border=\"1\" class=\"dataframe\">\n",
       "  <thead>\n",
       "    <tr style=\"text-align: right;\">\n",
       "      <th></th>\n",
       "      <th>Product</th>\n",
       "      <th>Consumer_complaint_narrative</th>\n",
       "    </tr>\n",
       "  </thead>\n",
       "  <tbody>\n",
       "    <tr>\n",
       "      <th>823856</th>\n",
       "      <td>Credit reporting, credit repair services, or o...</td>\n",
       "      <td>Equifax is refusing to investigate claiming th...</td>\n",
       "    </tr>\n",
       "    <tr>\n",
       "      <th>958998</th>\n",
       "      <td>Credit reporting, credit repair services, or o...</td>\n",
       "      <td>The hacker wannacry compromised my phone and I...</td>\n",
       "    </tr>\n",
       "  </tbody>\n",
       "</table>\n",
       "</div>"
      ],
      "text/plain": [
       "                                                  Product  \\\n",
       "823856  Credit reporting, credit repair services, or o...   \n",
       "958998  Credit reporting, credit repair services, or o...   \n",
       "\n",
       "                             Consumer_complaint_narrative  \n",
       "823856  Equifax is refusing to investigate claiming th...  \n",
       "958998  The hacker wannacry compromised my phone and I...  "
      ]
     },
     "metadata": {},
     "output_type": "display_data"
    },
    {
     "name": "stdout",
     "output_type": "stream",
     "text": [
      "\n",
      "'Credit reporting' predicted as 'Debt collection' : 47 examples.\n"
     ]
    },
    {
     "data": {
      "text/html": [
       "<div>\n",
       "<style scoped>\n",
       "    .dataframe tbody tr th:only-of-type {\n",
       "        vertical-align: middle;\n",
       "    }\n",
       "\n",
       "    .dataframe tbody tr th {\n",
       "        vertical-align: top;\n",
       "    }\n",
       "\n",
       "    .dataframe thead th {\n",
       "        text-align: right;\n",
       "    }\n",
       "</style>\n",
       "<table border=\"1\" class=\"dataframe\">\n",
       "  <thead>\n",
       "    <tr style=\"text-align: right;\">\n",
       "      <th></th>\n",
       "      <th>Product</th>\n",
       "      <th>Consumer_complaint_narrative</th>\n",
       "    </tr>\n",
       "  </thead>\n",
       "  <tbody>\n",
       "    <tr>\n",
       "      <th>260768</th>\n",
       "      <td>Credit reporting</td>\n",
       "      <td>Call the let them know this was a mistake and ...</td>\n",
       "    </tr>\n",
       "    <tr>\n",
       "      <th>906760</th>\n",
       "      <td>Credit reporting</td>\n",
       "      <td>I do n't know why these are on my credit score...</td>\n",
       "    </tr>\n",
       "  </tbody>\n",
       "</table>\n",
       "</div>"
      ],
      "text/plain": [
       "                 Product                       Consumer_complaint_narrative\n",
       "260768  Credit reporting  Call the let them know this was a mistake and ...\n",
       "906760  Credit reporting  I do n't know why these are on my credit score..."
      ]
     },
     "metadata": {},
     "output_type": "display_data"
    },
    {
     "name": "stdout",
     "output_type": "stream",
     "text": [
      "\n",
      "'Credit card' predicted as 'Debt collection' : 35 examples.\n"
     ]
    },
    {
     "data": {
      "text/html": [
       "<div>\n",
       "<style scoped>\n",
       "    .dataframe tbody tr th:only-of-type {\n",
       "        vertical-align: middle;\n",
       "    }\n",
       "\n",
       "    .dataframe tbody tr th {\n",
       "        vertical-align: top;\n",
       "    }\n",
       "\n",
       "    .dataframe thead th {\n",
       "        text-align: right;\n",
       "    }\n",
       "</style>\n",
       "<table border=\"1\" class=\"dataframe\">\n",
       "  <thead>\n",
       "    <tr style=\"text-align: right;\">\n",
       "      <th></th>\n",
       "      <th>Product</th>\n",
       "      <th>Consumer_complaint_narrative</th>\n",
       "    </tr>\n",
       "  </thead>\n",
       "  <tbody>\n",
       "    <tr>\n",
       "      <th>303558</th>\n",
       "      <td>Credit card</td>\n",
       "      <td>I paid off the QVC Card to later find out my a...</td>\n",
       "    </tr>\n",
       "    <tr>\n",
       "      <th>1015484</th>\n",
       "      <td>Credit card</td>\n",
       "      <td>I have had muitiple calls from the XXXX XXXX a...</td>\n",
       "    </tr>\n",
       "  </tbody>\n",
       "</table>\n",
       "</div>"
      ],
      "text/plain": [
       "             Product                       Consumer_complaint_narrative\n",
       "303558   Credit card  I paid off the QVC Card to later find out my a...\n",
       "1015484  Credit card  I have had muitiple calls from the XXXX XXXX a..."
      ]
     },
     "metadata": {},
     "output_type": "display_data"
    },
    {
     "name": "stdout",
     "output_type": "stream",
     "text": [
      "\n",
      "'Student loan' predicted as 'Debt collection' : 31 examples.\n"
     ]
    },
    {
     "data": {
      "text/html": [
       "<div>\n",
       "<style scoped>\n",
       "    .dataframe tbody tr th:only-of-type {\n",
       "        vertical-align: middle;\n",
       "    }\n",
       "\n",
       "    .dataframe tbody tr th {\n",
       "        vertical-align: top;\n",
       "    }\n",
       "\n",
       "    .dataframe thead th {\n",
       "        text-align: right;\n",
       "    }\n",
       "</style>\n",
       "<table border=\"1\" class=\"dataframe\">\n",
       "  <thead>\n",
       "    <tr style=\"text-align: right;\">\n",
       "      <th></th>\n",
       "      <th>Product</th>\n",
       "      <th>Consumer_complaint_narrative</th>\n",
       "    </tr>\n",
       "  </thead>\n",
       "  <tbody>\n",
       "    <tr>\n",
       "      <th>60933</th>\n",
       "      <td>Student loan</td>\n",
       "      <td>I receive robo phone calls multiple times dail...</td>\n",
       "    </tr>\n",
       "    <tr>\n",
       "      <th>41727</th>\n",
       "      <td>Student loan</td>\n",
       "      <td>I am currently being garnished by an organizat...</td>\n",
       "    </tr>\n",
       "  </tbody>\n",
       "</table>\n",
       "</div>"
      ],
      "text/plain": [
       "            Product                       Consumer_complaint_narrative\n",
       "60933  Student loan  I receive robo phone calls multiple times dail...\n",
       "41727  Student loan  I am currently being garnished by an organizat..."
      ]
     },
     "metadata": {},
     "output_type": "display_data"
    },
    {
     "name": "stdout",
     "output_type": "stream",
     "text": [
      "\n",
      "'Consumer Loan' predicted as 'Debt collection' : 35 examples.\n"
     ]
    },
    {
     "data": {
      "text/html": [
       "<div>\n",
       "<style scoped>\n",
       "    .dataframe tbody tr th:only-of-type {\n",
       "        vertical-align: middle;\n",
       "    }\n",
       "\n",
       "    .dataframe tbody tr th {\n",
       "        vertical-align: top;\n",
       "    }\n",
       "\n",
       "    .dataframe thead th {\n",
       "        text-align: right;\n",
       "    }\n",
       "</style>\n",
       "<table border=\"1\" class=\"dataframe\">\n",
       "  <thead>\n",
       "    <tr style=\"text-align: right;\">\n",
       "      <th></th>\n",
       "      <th>Product</th>\n",
       "      <th>Consumer_complaint_narrative</th>\n",
       "    </tr>\n",
       "  </thead>\n",
       "  <tbody>\n",
       "    <tr>\n",
       "      <th>629543</th>\n",
       "      <td>Consumer Loan</td>\n",
       "      <td>Wells Fargo back dated letter regarding proof ...</td>\n",
       "    </tr>\n",
       "    <tr>\n",
       "      <th>3649</th>\n",
       "      <td>Consumer Loan</td>\n",
       "      <td>I opened a XXXX money account with CONN Applia...</td>\n",
       "    </tr>\n",
       "  </tbody>\n",
       "</table>\n",
       "</div>"
      ],
      "text/plain": [
       "              Product                       Consumer_complaint_narrative\n",
       "629543  Consumer Loan  Wells Fargo back dated letter regarding proof ...\n",
       "3649    Consumer Loan  I opened a XXXX money account with CONN Applia..."
      ]
     },
     "metadata": {},
     "output_type": "display_data"
    },
    {
     "name": "stdout",
     "output_type": "stream",
     "text": [
      "\n",
      "'Credit reporting, credit repair services, or other personal consumer reports' predicted as 'Debt collection' : 116 examples.\n"
     ]
    },
    {
     "data": {
      "text/html": [
       "<div>\n",
       "<style scoped>\n",
       "    .dataframe tbody tr th:only-of-type {\n",
       "        vertical-align: middle;\n",
       "    }\n",
       "\n",
       "    .dataframe tbody tr th {\n",
       "        vertical-align: top;\n",
       "    }\n",
       "\n",
       "    .dataframe thead th {\n",
       "        text-align: right;\n",
       "    }\n",
       "</style>\n",
       "<table border=\"1\" class=\"dataframe\">\n",
       "  <thead>\n",
       "    <tr style=\"text-align: right;\">\n",
       "      <th></th>\n",
       "      <th>Product</th>\n",
       "      <th>Consumer_complaint_narrative</th>\n",
       "    </tr>\n",
       "  </thead>\n",
       "  <tbody>\n",
       "    <tr>\n",
       "      <th>193097</th>\n",
       "      <td>Credit reporting, credit repair services, or o...</td>\n",
       "      <td>WRONG PHONE NUMBERS I have only 2 numbers XXXX...</td>\n",
       "    </tr>\n",
       "    <tr>\n",
       "      <th>222042</th>\n",
       "      <td>Credit reporting, credit repair services, or o...</td>\n",
       "      <td>I currently have a debt which is n't in my nam...</td>\n",
       "    </tr>\n",
       "  </tbody>\n",
       "</table>\n",
       "</div>"
      ],
      "text/plain": [
       "                                                  Product  \\\n",
       "193097  Credit reporting, credit repair services, or o...   \n",
       "222042  Credit reporting, credit repair services, or o...   \n",
       "\n",
       "                             Consumer_complaint_narrative  \n",
       "193097  WRONG PHONE NUMBERS I have only 2 numbers XXXX...  \n",
       "222042  I currently have a debt which is n't in my nam...  "
      ]
     },
     "metadata": {},
     "output_type": "display_data"
    },
    {
     "name": "stdout",
     "output_type": "stream",
     "text": [
      "\n",
      "'Debt collection' predicted as 'Mortgage' : 27 examples.\n"
     ]
    },
    {
     "data": {
      "text/html": [
       "<div>\n",
       "<style scoped>\n",
       "    .dataframe tbody tr th:only-of-type {\n",
       "        vertical-align: middle;\n",
       "    }\n",
       "\n",
       "    .dataframe tbody tr th {\n",
       "        vertical-align: top;\n",
       "    }\n",
       "\n",
       "    .dataframe thead th {\n",
       "        text-align: right;\n",
       "    }\n",
       "</style>\n",
       "<table border=\"1\" class=\"dataframe\">\n",
       "  <thead>\n",
       "    <tr style=\"text-align: right;\">\n",
       "      <th></th>\n",
       "      <th>Product</th>\n",
       "      <th>Consumer_complaint_narrative</th>\n",
       "    </tr>\n",
       "  </thead>\n",
       "  <tbody>\n",
       "    <tr>\n",
       "      <th>726921</th>\n",
       "      <td>Debt collection</td>\n",
       "      <td>Ditech Financial LLC is the 5th lien holder of...</td>\n",
       "    </tr>\n",
       "    <tr>\n",
       "      <th>736607</th>\n",
       "      <td>Debt collection</td>\n",
       "      <td>JP Morgan Chase in XX/XX/XXXX recorded an assi...</td>\n",
       "    </tr>\n",
       "  </tbody>\n",
       "</table>\n",
       "</div>"
      ],
      "text/plain": [
       "                Product                       Consumer_complaint_narrative\n",
       "726921  Debt collection  Ditech Financial LLC is the 5th lien holder of...\n",
       "736607  Debt collection  JP Morgan Chase in XX/XX/XXXX recorded an assi..."
      ]
     },
     "metadata": {},
     "output_type": "display_data"
    },
    {
     "name": "stdout",
     "output_type": "stream",
     "text": [
      "\n",
      "'Credit reporting, credit repair services, or other personal consumer reports' predicted as 'Mortgage' : 26 examples.\n"
     ]
    },
    {
     "data": {
      "text/html": [
       "<div>\n",
       "<style scoped>\n",
       "    .dataframe tbody tr th:only-of-type {\n",
       "        vertical-align: middle;\n",
       "    }\n",
       "\n",
       "    .dataframe tbody tr th {\n",
       "        vertical-align: top;\n",
       "    }\n",
       "\n",
       "    .dataframe thead th {\n",
       "        text-align: right;\n",
       "    }\n",
       "</style>\n",
       "<table border=\"1\" class=\"dataframe\">\n",
       "  <thead>\n",
       "    <tr style=\"text-align: right;\">\n",
       "      <th></th>\n",
       "      <th>Product</th>\n",
       "      <th>Consumer_complaint_narrative</th>\n",
       "    </tr>\n",
       "  </thead>\n",
       "  <tbody>\n",
       "    <tr>\n",
       "      <th>1094024</th>\n",
       "      <td>Credit reporting, credit repair services, or o...</td>\n",
       "      <td>This is a reply to XXXX XXXX XXXX XXXX 's ( XX...</td>\n",
       "    </tr>\n",
       "    <tr>\n",
       "      <th>1024913</th>\n",
       "      <td>Credit reporting, credit repair services, or o...</td>\n",
       "      <td>XXXX XXXX, XXXX CFPB : Due to the hacking of t...</td>\n",
       "    </tr>\n",
       "  </tbody>\n",
       "</table>\n",
       "</div>"
      ],
      "text/plain": [
       "                                                   Product  \\\n",
       "1094024  Credit reporting, credit repair services, or o...   \n",
       "1024913  Credit reporting, credit repair services, or o...   \n",
       "\n",
       "                              Consumer_complaint_narrative  \n",
       "1094024  This is a reply to XXXX XXXX XXXX XXXX 's ( XX...  \n",
       "1024913  XXXX XXXX, XXXX CFPB : Due to the hacking of t...  "
      ]
     },
     "metadata": {},
     "output_type": "display_data"
    },
    {
     "name": "stdout",
     "output_type": "stream",
     "text": [
      "\n",
      "'Bank account or service' predicted as 'Credit card' : 21 examples.\n"
     ]
    },
    {
     "data": {
      "text/html": [
       "<div>\n",
       "<style scoped>\n",
       "    .dataframe tbody tr th:only-of-type {\n",
       "        vertical-align: middle;\n",
       "    }\n",
       "\n",
       "    .dataframe tbody tr th {\n",
       "        vertical-align: top;\n",
       "    }\n",
       "\n",
       "    .dataframe thead th {\n",
       "        text-align: right;\n",
       "    }\n",
       "</style>\n",
       "<table border=\"1\" class=\"dataframe\">\n",
       "  <thead>\n",
       "    <tr style=\"text-align: right;\">\n",
       "      <th></th>\n",
       "      <th>Product</th>\n",
       "      <th>Consumer_complaint_narrative</th>\n",
       "    </tr>\n",
       "  </thead>\n",
       "  <tbody>\n",
       "    <tr>\n",
       "      <th>49244</th>\n",
       "      <td>Bank account or service</td>\n",
       "      <td>XXXX my wife and I have Macy 's accounts and h...</td>\n",
       "    </tr>\n",
       "    <tr>\n",
       "      <th>522518</th>\n",
       "      <td>Bank account or service</td>\n",
       "      <td>DISCOVER BANK KEEPS ASKING INFORMATION ON MY T...</td>\n",
       "    </tr>\n",
       "  </tbody>\n",
       "</table>\n",
       "</div>"
      ],
      "text/plain": [
       "                        Product  \\\n",
       "49244   Bank account or service   \n",
       "522518  Bank account or service   \n",
       "\n",
       "                             Consumer_complaint_narrative  \n",
       "49244   XXXX my wife and I have Macy 's accounts and h...  \n",
       "522518  DISCOVER BANK KEEPS ASKING INFORMATION ON MY T...  "
      ]
     },
     "metadata": {},
     "output_type": "display_data"
    },
    {
     "name": "stdout",
     "output_type": "stream",
     "text": [
      "\n",
      "'Credit card or prepaid card' predicted as 'Credit card' : 77 examples.\n"
     ]
    },
    {
     "data": {
      "text/html": [
       "<div>\n",
       "<style scoped>\n",
       "    .dataframe tbody tr th:only-of-type {\n",
       "        vertical-align: middle;\n",
       "    }\n",
       "\n",
       "    .dataframe tbody tr th {\n",
       "        vertical-align: top;\n",
       "    }\n",
       "\n",
       "    .dataframe thead th {\n",
       "        text-align: right;\n",
       "    }\n",
       "</style>\n",
       "<table border=\"1\" class=\"dataframe\">\n",
       "  <thead>\n",
       "    <tr style=\"text-align: right;\">\n",
       "      <th></th>\n",
       "      <th>Product</th>\n",
       "      <th>Consumer_complaint_narrative</th>\n",
       "    </tr>\n",
       "  </thead>\n",
       "  <tbody>\n",
       "    <tr>\n",
       "      <th>963924</th>\n",
       "      <td>Credit card or prepaid card</td>\n",
       "      <td>AMEX does not adhere to requirements of UIGEA....</td>\n",
       "    </tr>\n",
       "    <tr>\n",
       "      <th>891805</th>\n",
       "      <td>Credit card or prepaid card</td>\n",
       "      <td>I apply for XXXX credit card, because it was s...</td>\n",
       "    </tr>\n",
       "  </tbody>\n",
       "</table>\n",
       "</div>"
      ],
      "text/plain": [
       "                            Product  \\\n",
       "963924  Credit card or prepaid card   \n",
       "891805  Credit card or prepaid card   \n",
       "\n",
       "                             Consumer_complaint_narrative  \n",
       "963924  AMEX does not adhere to requirements of UIGEA....  \n",
       "891805  I apply for XXXX credit card, because it was s...  "
      ]
     },
     "metadata": {},
     "output_type": "display_data"
    },
    {
     "name": "stdout",
     "output_type": "stream",
     "text": [
      "\n",
      "'Checking or savings account' predicted as 'Bank account or service' : 68 examples.\n"
     ]
    },
    {
     "data": {
      "text/html": [
       "<div>\n",
       "<style scoped>\n",
       "    .dataframe tbody tr th:only-of-type {\n",
       "        vertical-align: middle;\n",
       "    }\n",
       "\n",
       "    .dataframe tbody tr th {\n",
       "        vertical-align: top;\n",
       "    }\n",
       "\n",
       "    .dataframe thead th {\n",
       "        text-align: right;\n",
       "    }\n",
       "</style>\n",
       "<table border=\"1\" class=\"dataframe\">\n",
       "  <thead>\n",
       "    <tr style=\"text-align: right;\">\n",
       "      <th></th>\n",
       "      <th>Product</th>\n",
       "      <th>Consumer_complaint_narrative</th>\n",
       "    </tr>\n",
       "  </thead>\n",
       "  <tbody>\n",
       "    <tr>\n",
       "      <th>744056</th>\n",
       "      <td>Checking or savings account</td>\n",
       "      <td>I had an incident where my wallet was lost, al...</td>\n",
       "    </tr>\n",
       "    <tr>\n",
       "      <th>725206</th>\n",
       "      <td>Checking or savings account</td>\n",
       "      <td>My wife and I asked Citibank N.A. to change th...</td>\n",
       "    </tr>\n",
       "  </tbody>\n",
       "</table>\n",
       "</div>"
      ],
      "text/plain": [
       "                            Product  \\\n",
       "744056  Checking or savings account   \n",
       "725206  Checking or savings account   \n",
       "\n",
       "                             Consumer_complaint_narrative  \n",
       "744056  I had an incident where my wallet was lost, al...  \n",
       "725206  My wife and I asked Citibank N.A. to change th...  "
      ]
     },
     "metadata": {},
     "output_type": "display_data"
    },
    {
     "name": "stdout",
     "output_type": "stream",
     "text": [
      "\n",
      "'Credit reporting, credit repair services, or other personal consumer reports' predicted as 'Student loan' : 22 examples.\n"
     ]
    },
    {
     "data": {
      "text/html": [
       "<div>\n",
       "<style scoped>\n",
       "    .dataframe tbody tr th:only-of-type {\n",
       "        vertical-align: middle;\n",
       "    }\n",
       "\n",
       "    .dataframe tbody tr th {\n",
       "        vertical-align: top;\n",
       "    }\n",
       "\n",
       "    .dataframe thead th {\n",
       "        text-align: right;\n",
       "    }\n",
       "</style>\n",
       "<table border=\"1\" class=\"dataframe\">\n",
       "  <thead>\n",
       "    <tr style=\"text-align: right;\">\n",
       "      <th></th>\n",
       "      <th>Product</th>\n",
       "      <th>Consumer_complaint_narrative</th>\n",
       "    </tr>\n",
       "  </thead>\n",
       "  <tbody>\n",
       "    <tr>\n",
       "      <th>734656</th>\n",
       "      <td>Credit reporting, credit repair services, or o...</td>\n",
       "      <td>4 loans from XX/XX/XXXX-XX/XX/XXXX have been p...</td>\n",
       "    </tr>\n",
       "    <tr>\n",
       "      <th>795574</th>\n",
       "      <td>Credit reporting, credit repair services, or o...</td>\n",
       "      <td>On XXXX XXXX, XXXX, I had suffered an XXXX inc...</td>\n",
       "    </tr>\n",
       "  </tbody>\n",
       "</table>\n",
       "</div>"
      ],
      "text/plain": [
       "                                                  Product  \\\n",
       "734656  Credit reporting, credit repair services, or o...   \n",
       "795574  Credit reporting, credit repair services, or o...   \n",
       "\n",
       "                             Consumer_complaint_narrative  \n",
       "734656  4 loans from XX/XX/XXXX-XX/XX/XXXX have been p...  \n",
       "795574  On XXXX XXXX, XXXX, I had suffered an XXXX inc...  "
      ]
     },
     "metadata": {},
     "output_type": "display_data"
    },
    {
     "name": "stdout",
     "output_type": "stream",
     "text": [
      "\n",
      "'Vehicle loan or lease' predicted as 'Consumer Loan' : 21 examples.\n"
     ]
    },
    {
     "data": {
      "text/html": [
       "<div>\n",
       "<style scoped>\n",
       "    .dataframe tbody tr th:only-of-type {\n",
       "        vertical-align: middle;\n",
       "    }\n",
       "\n",
       "    .dataframe tbody tr th {\n",
       "        vertical-align: top;\n",
       "    }\n",
       "\n",
       "    .dataframe thead th {\n",
       "        text-align: right;\n",
       "    }\n",
       "</style>\n",
       "<table border=\"1\" class=\"dataframe\">\n",
       "  <thead>\n",
       "    <tr style=\"text-align: right;\">\n",
       "      <th></th>\n",
       "      <th>Product</th>\n",
       "      <th>Consumer_complaint_narrative</th>\n",
       "    </tr>\n",
       "  </thead>\n",
       "  <tbody>\n",
       "    <tr>\n",
       "      <th>980588</th>\n",
       "      <td>Vehicle loan or lease</td>\n",
       "      <td>On XX/XX/XXXX 2017 I received a letter from To...</td>\n",
       "    </tr>\n",
       "    <tr>\n",
       "      <th>804572</th>\n",
       "      <td>Vehicle loan or lease</td>\n",
       "      <td>I have had multiple charges added to my accoun...</td>\n",
       "    </tr>\n",
       "  </tbody>\n",
       "</table>\n",
       "</div>"
      ],
      "text/plain": [
       "                      Product  \\\n",
       "980588  Vehicle loan or lease   \n",
       "804572  Vehicle loan or lease   \n",
       "\n",
       "                             Consumer_complaint_narrative  \n",
       "980588  On XX/XX/XXXX 2017 I received a letter from To...  \n",
       "804572  I have had multiple charges added to my accoun...  "
      ]
     },
     "metadata": {},
     "output_type": "display_data"
    },
    {
     "name": "stdout",
     "output_type": "stream",
     "text": [
      "\n",
      "'Credit reporting' predicted as 'Credit reporting, credit repair services, or other personal consumer reports' : 201 examples.\n"
     ]
    },
    {
     "data": {
      "text/html": [
       "<div>\n",
       "<style scoped>\n",
       "    .dataframe tbody tr th:only-of-type {\n",
       "        vertical-align: middle;\n",
       "    }\n",
       "\n",
       "    .dataframe tbody tr th {\n",
       "        vertical-align: top;\n",
       "    }\n",
       "\n",
       "    .dataframe thead th {\n",
       "        text-align: right;\n",
       "    }\n",
       "</style>\n",
       "<table border=\"1\" class=\"dataframe\">\n",
       "  <thead>\n",
       "    <tr style=\"text-align: right;\">\n",
       "      <th></th>\n",
       "      <th>Product</th>\n",
       "      <th>Consumer_complaint_narrative</th>\n",
       "    </tr>\n",
       "  </thead>\n",
       "  <tbody>\n",
       "    <tr>\n",
       "      <th>454310</th>\n",
       "      <td>Credit reporting</td>\n",
       "      <td>SERVERAL ADDRESSES WERE INCORRECT ON MY CREDIT...</td>\n",
       "    </tr>\n",
       "    <tr>\n",
       "      <th>563698</th>\n",
       "      <td>Credit reporting</td>\n",
       "      <td>According to the fair credit reporting act, Se...</td>\n",
       "    </tr>\n",
       "  </tbody>\n",
       "</table>\n",
       "</div>"
      ],
      "text/plain": [
       "                 Product                       Consumer_complaint_narrative\n",
       "454310  Credit reporting  SERVERAL ADDRESSES WERE INCORRECT ON MY CREDIT...\n",
       "563698  Credit reporting  According to the fair credit reporting act, Se..."
      ]
     },
     "metadata": {},
     "output_type": "display_data"
    },
    {
     "name": "stdout",
     "output_type": "stream",
     "text": [
      "\n",
      "'Debt collection' predicted as 'Credit reporting, credit repair services, or other personal consumer reports' : 59 examples.\n"
     ]
    },
    {
     "data": {
      "text/html": [
       "<div>\n",
       "<style scoped>\n",
       "    .dataframe tbody tr th:only-of-type {\n",
       "        vertical-align: middle;\n",
       "    }\n",
       "\n",
       "    .dataframe tbody tr th {\n",
       "        vertical-align: top;\n",
       "    }\n",
       "\n",
       "    .dataframe thead th {\n",
       "        text-align: right;\n",
       "    }\n",
       "</style>\n",
       "<table border=\"1\" class=\"dataframe\">\n",
       "  <thead>\n",
       "    <tr style=\"text-align: right;\">\n",
       "      <th></th>\n",
       "      <th>Product</th>\n",
       "      <th>Consumer_complaint_narrative</th>\n",
       "    </tr>\n",
       "  </thead>\n",
       "  <tbody>\n",
       "    <tr>\n",
       "      <th>819257</th>\n",
       "      <td>Debt collection</td>\n",
       "      <td>I owed a credit from XXXX. A few months after ...</td>\n",
       "    </tr>\n",
       "    <tr>\n",
       "      <th>657513</th>\n",
       "      <td>Debt collection</td>\n",
       "      <td>They are reporting collections on my  XXXX  th...</td>\n",
       "    </tr>\n",
       "  </tbody>\n",
       "</table>\n",
       "</div>"
      ],
      "text/plain": [
       "                Product                       Consumer_complaint_narrative\n",
       "819257  Debt collection  I owed a credit from XXXX. A few months after ...\n",
       "657513  Debt collection  They are reporting collections on my  XXXX  th..."
      ]
     },
     "metadata": {},
     "output_type": "display_data"
    },
    {
     "name": "stdout",
     "output_type": "stream",
     "text": [
      "\n",
      "'Credit card' predicted as 'Credit reporting, credit repair services, or other personal consumer reports' : 21 examples.\n"
     ]
    },
    {
     "data": {
      "text/html": [
       "<div>\n",
       "<style scoped>\n",
       "    .dataframe tbody tr th:only-of-type {\n",
       "        vertical-align: middle;\n",
       "    }\n",
       "\n",
       "    .dataframe tbody tr th {\n",
       "        vertical-align: top;\n",
       "    }\n",
       "\n",
       "    .dataframe thead th {\n",
       "        text-align: right;\n",
       "    }\n",
       "</style>\n",
       "<table border=\"1\" class=\"dataframe\">\n",
       "  <thead>\n",
       "    <tr style=\"text-align: right;\">\n",
       "      <th></th>\n",
       "      <th>Product</th>\n",
       "      <th>Consumer_complaint_narrative</th>\n",
       "    </tr>\n",
       "  </thead>\n",
       "  <tbody>\n",
       "    <tr>\n",
       "      <th>934420</th>\n",
       "      <td>Credit card</td>\n",
       "      <td>Target continues to report outdated informatio...</td>\n",
       "    </tr>\n",
       "    <tr>\n",
       "      <th>508723</th>\n",
       "      <td>Credit card</td>\n",
       "      <td>My credit limit on XXXX credit cards with Sync...</td>\n",
       "    </tr>\n",
       "  </tbody>\n",
       "</table>\n",
       "</div>"
      ],
      "text/plain": [
       "            Product                       Consumer_complaint_narrative\n",
       "934420  Credit card  Target continues to report outdated informatio...\n",
       "508723  Credit card  My credit limit on XXXX credit cards with Sync..."
      ]
     },
     "metadata": {},
     "output_type": "display_data"
    },
    {
     "name": "stdout",
     "output_type": "stream",
     "text": [
      "\n",
      "'Credit card or prepaid card' predicted as 'Credit reporting, credit repair services, or other personal consumer reports' : 24 examples.\n"
     ]
    },
    {
     "data": {
      "text/html": [
       "<div>\n",
       "<style scoped>\n",
       "    .dataframe tbody tr th:only-of-type {\n",
       "        vertical-align: middle;\n",
       "    }\n",
       "\n",
       "    .dataframe tbody tr th {\n",
       "        vertical-align: top;\n",
       "    }\n",
       "\n",
       "    .dataframe thead th {\n",
       "        text-align: right;\n",
       "    }\n",
       "</style>\n",
       "<table border=\"1\" class=\"dataframe\">\n",
       "  <thead>\n",
       "    <tr style=\"text-align: right;\">\n",
       "      <th></th>\n",
       "      <th>Product</th>\n",
       "      <th>Consumer_complaint_narrative</th>\n",
       "    </tr>\n",
       "  </thead>\n",
       "  <tbody>\n",
       "    <tr>\n",
       "      <th>51196</th>\n",
       "      <td>Credit card or prepaid card</td>\n",
       "      <td>I was an authorized user on a XXXX XXXX Credit...</td>\n",
       "    </tr>\n",
       "    <tr>\n",
       "      <th>710533</th>\n",
       "      <td>Credit card or prepaid card</td>\n",
       "      <td>I had a chase credit card that was linked to a...</td>\n",
       "    </tr>\n",
       "  </tbody>\n",
       "</table>\n",
       "</div>"
      ],
      "text/plain": [
       "                            Product  \\\n",
       "51196   Credit card or prepaid card   \n",
       "710533  Credit card or prepaid card   \n",
       "\n",
       "                             Consumer_complaint_narrative  \n",
       "51196   I was an authorized user on a XXXX XXXX Credit...  \n",
       "710533  I had a chase credit card that was linked to a...  "
      ]
     },
     "metadata": {},
     "output_type": "display_data"
    },
    {
     "name": "stdout",
     "output_type": "stream",
     "text": [
      "\n",
      "'Credit card' predicted as 'Credit card or prepaid card' : 40 examples.\n"
     ]
    },
    {
     "data": {
      "text/html": [
       "<div>\n",
       "<style scoped>\n",
       "    .dataframe tbody tr th:only-of-type {\n",
       "        vertical-align: middle;\n",
       "    }\n",
       "\n",
       "    .dataframe tbody tr th {\n",
       "        vertical-align: top;\n",
       "    }\n",
       "\n",
       "    .dataframe thead th {\n",
       "        text-align: right;\n",
       "    }\n",
       "</style>\n",
       "<table border=\"1\" class=\"dataframe\">\n",
       "  <thead>\n",
       "    <tr style=\"text-align: right;\">\n",
       "      <th></th>\n",
       "      <th>Product</th>\n",
       "      <th>Consumer_complaint_narrative</th>\n",
       "    </tr>\n",
       "  </thead>\n",
       "  <tbody>\n",
       "    <tr>\n",
       "      <th>249942</th>\n",
       "      <td>Credit card</td>\n",
       "      <td>I have been a long-term and high volume custom...</td>\n",
       "    </tr>\n",
       "    <tr>\n",
       "      <th>1068364</th>\n",
       "      <td>Credit card</td>\n",
       "      <td>TO REBUILD MY CREDIT PROFILE. I APPLIED TO CAP...</td>\n",
       "    </tr>\n",
       "  </tbody>\n",
       "</table>\n",
       "</div>"
      ],
      "text/plain": [
       "             Product                       Consumer_complaint_narrative\n",
       "249942   Credit card  I have been a long-term and high volume custom...\n",
       "1068364  Credit card  TO REBUILD MY CREDIT PROFILE. I APPLIED TO CAP..."
      ]
     },
     "metadata": {},
     "output_type": "display_data"
    },
    {
     "name": "stdout",
     "output_type": "stream",
     "text": [
      "\n",
      "'Bank account or service' predicted as 'Checking or savings account' : 26 examples.\n"
     ]
    },
    {
     "data": {
      "text/html": [
       "<div>\n",
       "<style scoped>\n",
       "    .dataframe tbody tr th:only-of-type {\n",
       "        vertical-align: middle;\n",
       "    }\n",
       "\n",
       "    .dataframe tbody tr th {\n",
       "        vertical-align: top;\n",
       "    }\n",
       "\n",
       "    .dataframe thead th {\n",
       "        text-align: right;\n",
       "    }\n",
       "</style>\n",
       "<table border=\"1\" class=\"dataframe\">\n",
       "  <thead>\n",
       "    <tr style=\"text-align: right;\">\n",
       "      <th></th>\n",
       "      <th>Product</th>\n",
       "      <th>Consumer_complaint_narrative</th>\n",
       "    </tr>\n",
       "  </thead>\n",
       "  <tbody>\n",
       "    <tr>\n",
       "      <th>600870</th>\n",
       "      <td>Bank account or service</td>\n",
       "      <td>I sent money through XXXX App for my bills whi...</td>\n",
       "    </tr>\n",
       "    <tr>\n",
       "      <th>523081</th>\n",
       "      <td>Bank account or service</td>\n",
       "      <td>We were scammed by someone posing as a loan of...</td>\n",
       "    </tr>\n",
       "  </tbody>\n",
       "</table>\n",
       "</div>"
      ],
      "text/plain": [
       "                        Product  \\\n",
       "600870  Bank account or service   \n",
       "523081  Bank account or service   \n",
       "\n",
       "                             Consumer_complaint_narrative  \n",
       "600870  I sent money through XXXX App for my bills whi...  \n",
       "523081  We were scammed by someone posing as a loan of...  "
      ]
     },
     "metadata": {},
     "output_type": "display_data"
    },
    {
     "name": "stdout",
     "output_type": "stream",
     "text": [
      "\n"
     ]
    }
   ],
   "source": [
    "from IPython.display import display\n",
    "\n",
    "for predicted in category_id_df.category_id:\n",
    "    for actual in category_id_df.category_id:\n",
    "        if predicted != actual and conf_mat[actual, predicted] >= 20:\n",
    "            print(\"'{}' predicted as '{}' : {} examples.\".format(id_to_category[actual], id_to_category[predicted], conf_mat[actual, predicted]))\n",
    "            display(df.loc[indices_test[(y_test == actual) & (y_pred == predicted)]][['Product', 'Consumer_complaint_narrative']].sample(2))\n",
    "            print('')"
   ]
  },
  {
   "cell_type": "markdown",
   "metadata": {},
   "source": [
    "## Classification report"
   ]
  },
  {
   "cell_type": "code",
   "execution_count": 21,
   "metadata": {},
   "outputs": [
    {
     "name": "stdout",
     "output_type": "stream",
     "text": [
      "                                                                              precision    recall  f1-score   support\n",
      "\n",
      "                                                 Checking or savings account       0.61      0.43      0.50       487\n",
      "                                                             Debt collection       0.74      0.87      0.80      1171\n",
      "Credit reporting, credit repair services, or other personal consumer reports       0.84      0.94      0.89       723\n",
      "                                                 Credit card or prepaid card       0.57      0.61      0.59       309\n",
      "                                                                Student loan       0.70      0.11      0.18        66\n",
      "                                                            Credit reporting       0.50      0.64      0.56       212\n",
      "                                                                    Mortgage       0.60      0.14      0.22        22\n",
      "                                                     Bank account or service       0.84      0.80      0.82       306\n",
      "                                                                 Credit card       0.58      0.42      0.49       159\n",
      "                                                               Consumer Loan       0.21      0.07      0.11        40\n",
      "                                                                 Payday loan       0.64      0.71      0.67       972\n",
      "                                                       Vehicle loan or lease       0.00      0.00      0.00         2\n",
      "                                   Payday loan, title loan, or personal loan       0.43      0.11      0.17        28\n",
      "                          Money transfer, virtual currency, or money service       0.67      0.18      0.29        22\n",
      "                                                             Money transfers       0.55      0.39      0.45       232\n",
      "                                                                Prepaid card       0.76      0.49      0.60        53\n",
      "                                                     Other financial service       0.45      0.32      0.37       145\n",
      "                                                            Virtual currency       0.00      0.00      0.00         1\n",
      "\n",
      "                                                                 avg / total       0.68      0.69      0.67      4950\n",
      "\n"
     ]
    },
    {
     "name": "stderr",
     "output_type": "stream",
     "text": [
      "C:\\Users\\anubhav.dhiman\\AppData\\Local\\Continuum\\anaconda3\\lib\\site-packages\\sklearn\\metrics\\classification.py:1135: UndefinedMetricWarning: Precision and F-score are ill-defined and being set to 0.0 in labels with no predicted samples.\n",
      "  'precision', 'predicted', average, warn_for)\n"
     ]
    }
   ],
   "source": [
    "from sklearn import metrics\n",
    "print(metrics.classification_report(y_test, y_pred, \n",
    "                                    target_names=df['Product'].unique()))"
   ]
  },
  {
   "cell_type": "code",
   "execution_count": null,
   "metadata": {},
   "outputs": [],
   "source": []
  }
 ],
 "metadata": {
  "hide_input": false,
  "kernelspec": {
   "display_name": "Python 3",
   "language": "python",
   "name": "python3"
  },
  "language_info": {
   "codemirror_mode": {
    "name": "ipython",
    "version": 3
   },
   "file_extension": ".py",
   "mimetype": "text/x-python",
   "name": "python",
   "nbconvert_exporter": "python",
   "pygments_lexer": "ipython3",
   "version": "3.6.4"
  },
  "toc": {
   "nav_menu": {},
   "number_sections": true,
   "sideBar": true,
   "skip_h1_title": false,
   "title_cell": "Table of Contents",
   "title_sidebar": "Contents",
   "toc_cell": false,
   "toc_position": {},
   "toc_section_display": true,
   "toc_window_display": false
  }
 },
 "nbformat": 4,
 "nbformat_minor": 2
}
